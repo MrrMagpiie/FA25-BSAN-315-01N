{
 "cells": [
  {
   "cell_type": "markdown",
   "id": "aadeadc3",
   "metadata": {},
   "source": [
    "\n",
    "# Week 1 Lab\n",
    "Objective: The goal of this lab assignment is to understand the use of Python for data exploration and cleaning. You will work with the \"Credit Card Fraud Detection\" dataset, which you will use throughout the course.\n",
    "\n",
    "Dataset: For this lab, we will use the \"Credit Card Fraud Detection\" dataset from the Outlier Detection DataSets (ODDS) repository. This dataset contains transactions made by credit cards in September 2013 by European cardholders, with a total of 284,807 transactions.\n",
    "\n",
    "## Lab Instructions\n",
    "\n",
    "### Load the Dataset:\n",
    "- Import necessary libraries: Import pandas and numpy.\n",
    "- Load the dataset: Load the dataset into a pandas DataFrame.\n",
    "- Display the first few rows: Use the head() method to display the first few rows of the dataset.\n",
    "\n",
    "### Lab Tasks:\n",
    "\n",
    "#### Setup and Environment Configuration:\n",
    "- Install Anaconda: Follow the instructions in Chapter 1 to download and install Anaconda.\n",
    "- Create a new environment: Create a new Python environment using Anaconda.\n",
    "- Install necessary libraries: Ensure you install pandas, numpy, matplotlib, seaborn, and scikit-learn.\n",
    "\n",
    "#### Data Acquisition:\n",
    "- Download the dataset: Use the link to the Credit Card Fraud Detection dataset.\n",
    "- Load the dataset: Write a Python script to load the dataset into a pandas DataFrame.\n",
    "\n",
    "#### Data Exploration:\n",
    "- Overview of the dataset: Use the head(), info(), and describe() methods to get an initial understanding of the data.\n",
    "- Check for missing values: Write a script to check and handle missing values if any.\n",
    "- Basic statistics: Calculate basic statistics (mean, median, mode, range, standard deviation) for the numerical features.\n",
    "\n",
    "#### Data Cleaning:\n",
    "- Handle missing data: Demonstrate techniques to handle missing data, such as imputation or removal.\n",
    "- Data type conversion: Ensure all columns are of the correct data type.\n",
    "- Duplicate removal: Check for and remove any duplicate entries in the dataset.\n",
    "\n",
    "#### Initial Data Visualization:\n",
    "- Plot histograms: Create histograms for the numerical features to understand their distributions.\n",
    "- Correlation matrix: Create a correlation matrix and a heatmap to identify relationships between variables.\n",
    "\n",
    "## Submission:\n",
    "Submit a Jupyter Notebook (.ipynb file) or RStudio or .py file containing the code for all tasks.\n",
    "\n"
   ]
  },
  {
   "cell_type": "markdown",
   "id": "d09491a2",
   "metadata": {},
   "source": [
    "## Part 1"
   ]
  },
  {
   "cell_type": "code",
   "execution_count": null,
   "id": "df51babc",
   "metadata": {},
   "outputs": [],
   "source": [
    "%%bash\n",
    "# Install necessary libraries\n",
    "pip install numpy pandas"
   ]
  },
  {
   "cell_type": "code",
   "execution_count": null,
   "id": "ee32c2db",
   "metadata": {},
   "outputs": [],
   "source": [
    "import pandas as pd\n",
    "data = pd.read_csv('./creditCardData.csv')\n",
    "print(data.head())"
   ]
  },
  {
   "cell_type": "markdown",
   "id": "7b86a6a4",
   "metadata": {},
   "source": [
    "## Part 2"
   ]
  },
  {
   "cell_type": "markdown",
   "id": "3e9193da",
   "metadata": {},
   "source": [
    "## Setup and Environment Configuration"
   ]
  },
  {
   "cell_type": "code",
   "execution_count": null,
   "id": "bee9b603",
   "metadata": {},
   "outputs": [],
   "source": [
    "%%bash\n",
    "conda install ipykernel pandas numpy matplotlib seaborn scikit-learn"
   ]
  },
  {
   "cell_type": "code",
   "execution_count": null,
   "id": "92fc9ad2",
   "metadata": {},
   "outputs": [],
   "source": [
    "#valid values\n",
    "validEducation = {\n",
    "    '1': 'graduate_school',\n",
    "    '2': 'university',\n",
    "    '3': 'high_school',\n",
    "    '4': 'other',\n",
    "}\n",
    "\n",
    "validSex= {\n",
    "    '1': 'male',\n",
    "    '2': 'female',\n",
    "}\n",
    "\n",
    "validMarriage = {\n",
    "    '1': 'married',\n",
    "    '2': 'single',\n",
    "    '3': 'other',\n",
    "}\n",
    "\n",
    "validPay = [\n",
    "    '-2',\n",
    "    '-1',\n",
    "    '0',\n",
    "    '1',\n",
    "    '2',\n",
    "    '3',\n",
    "    '4',\n",
    "    '5',\n",
    "    '6',\n",
    "    '7',\n",
    "    '8',\n",
    "    '9'\n",
    "]\n"
   ]
  },
  {
   "cell_type": "markdown",
   "id": "8dcfc1e7",
   "metadata": {},
   "source": [
    "## Data Acquisition:"
   ]
  },
  {
   "cell_type": "code",
   "execution_count": null,
   "id": "41cb9672",
   "metadata": {},
   "outputs": [],
   "source": [
    "import pandas as pd\n",
    "import numpy as np\n",
    "data = pd.read_csv('./creditCardData.csv')"
   ]
  },
  {
   "cell_type": "code",
   "execution_count": null,
   "id": "06eaa70a",
   "metadata": {},
   "outputs": [],
   "source": [
    "# Convert columns to the desired data types\n",
    "data['ID'] = data['ID'].astype(str)\n",
    "data['LIMIT_BAL'] = data['LIMIT_BAL'].astype('int64')\n",
    "data['SEX'] = data['SEX'].astype(str)\n",
    "data['EDUCATION'] = data['EDUCATION'].astype(str)\n",
    "data['MARRIAGE'] = data['MARRIAGE'].astype(str)\n",
    "data['AGE'] = data['AGE'].astype(str)\n",
    "data['PAY_0'] = data['PAY_0'].astype(str)\n",
    "data['PAY_2'] = data['PAY_2'].astype(str)\n",
    "data['PAY_3'] = data['PAY_3'].astype(str)\n",
    "data['PAY_4'] = data['PAY_4'].astype(str)\n",
    "data['PAY_5'] = data['PAY_5'].astype(str)\n",
    "data['PAY_6'] = data['PAY_6'].astype(str)\n",
    "data['BILL_AMT1'] = data['BILL_AMT1'].astype('int64')\n",
    "data['BILL_AMT2'] = data['BILL_AMT2'].astype('int64')\n",
    "data['BILL_AMT3'] = data['BILL_AMT3'].astype('int64')\n",
    "data['BILL_AMT4'] = data['BILL_AMT4'].astype('int64')\n",
    "data['BILL_AMT5'] = data['BILL_AMT5'].astype('int64')\n",
    "data['BILL_AMT6'] = data['BILL_AMT6'].astype('int64')\n",
    "data['PAY_AMT1'] = data['PAY_AMT1'].astype('int64')\n",
    "data['PAY_AMT2'] = data['PAY_AMT2'].astype('int64')\n",
    "data['PAY_AMT3'] = data['PAY_AMT3'].astype('int64')\n",
    "data['PAY_AMT4'] = data['PAY_AMT4'].astype('int64')\n",
    "data['PAY_AMT5'] = data['PAY_AMT5'].astype('int64')\n",
    "data['PAY_AMT6'] = data['PAY_AMT6'].astype('int64')\n",
    "data['Default_Payment_Next_Month'] = data['Default_Payment_Next_Month'].astype(str)"
   ]
  },
  {
   "cell_type": "code",
   "execution_count": null,
   "id": "b8b798b5",
   "metadata": {},
   "outputs": [],
   "source": [
    "# Print types \n",
    "print(data.dtypes)"
   ]
  },
  {
   "cell_type": "markdown",
   "id": "129d5424",
   "metadata": {},
   "source": [
    "## Data Exploration:"
   ]
  },
  {
   "cell_type": "code",
   "execution_count": null,
   "id": "141972dc",
   "metadata": {},
   "outputs": [],
   "source": [
    "#Print head\n",
    "print(f'HEAD:\\n{data.head()}')"
   ]
  },
  {
   "cell_type": "code",
   "execution_count": null,
   "id": "275cc6ab",
   "metadata": {},
   "outputs": [],
   "source": [
    "#print Info\n",
    "print(data.info())"
   ]
  },
  {
   "cell_type": "code",
   "execution_count": null,
   "id": "cc0fe9a1",
   "metadata": {},
   "outputs": [],
   "source": [
    "#print description\n",
    "print(data.describe())"
   ]
  },
  {
   "cell_type": "code",
   "execution_count": null,
   "id": "fceb1693",
   "metadata": {},
   "outputs": [],
   "source": [
    "#check for null\n",
    "missingCount = data.isnull().sum()\n",
    "print(missingCount)"
   ]
  },
  {
   "cell_type": "code",
   "execution_count": null,
   "id": "408c3ead",
   "metadata": {},
   "outputs": [],
   "source": [
    "# Get basic Stats and replace na \n",
    "numerical_cols = data.select_dtypes(include=[np.number]).columns.tolist()\n",
    "stats = {}\n",
    "for col in numerical_cols:\n",
    "    stats[col]={\n",
    "        \"Mean\": data[col].mean(),\n",
    "        \"Median\": data[col].median(),\n",
    "        \"Mode\": data[col].mode()[0],\n",
    "        \"Range\": data[col].max() - data[col].min(),\n",
    "        \"Standard Deviation\": data[col].std()\n",
    "    }\n",
    "data_stats = pd.DataFrame(stats)\n",
    "print(data_stats)"
   ]
  },
  {
   "cell_type": "markdown",
   "id": "5252c3cd",
   "metadata": {},
   "source": [
    "## Data Cleaning:"
   ]
  },
  {
   "cell_type": "code",
   "execution_count": null,
   "id": "b41f5ba8",
   "metadata": {},
   "outputs": [],
   "source": [
    "#Handle Missing Data\n",
    "# if a column is numeric we will repalce NA with the median for the column\n",
    "for col in numerical_cols:\n",
    "    if missingCount[col] !=0:\n",
    "        data = data[col].fillna(data[col].median())\n",
    "# the we drop all other rows with NA\n",
    "data = data.dropna(how='all')\n",
    "\n",
    "#Check all Na have been fixed\n",
    "missingCount = data.isnull().sum()\n",
    "print(missingCount)\n",
    "\n"
   ]
  },
  {
   "cell_type": "code",
   "execution_count": null,
   "id": "cbc1358e",
   "metadata": {},
   "outputs": [],
   "source": [
    "#Did the Data type conversion at the top\n",
    "print(data.dtypes)"
   ]
  },
  {
   "cell_type": "code",
   "execution_count": null,
   "id": "68ae1e97",
   "metadata": {},
   "outputs": [],
   "source": [
    "#data validation\n",
    "pay_col = ['PAY_0','PAY_2','PAY_3','PAY_4','PAY_5','PAY_6']\n",
    "# validate sex by removal\n",
    "sexInvalidMask = ~data['SEX'].isin(validSex)\n",
    "data = data.loc[~sexInvalidMask]\n",
    "# validate education by consolidation to 4 other\n",
    "educationInvalidMask = ~data['EDUCATION'].isin(validEducation)\n",
    "data.loc[educationInvalidMask, 'EDUCATION'] = '4'\n",
    "# validate pay status by removal\n",
    "payInvalidMask = ~data[pay_col].isin(validPay).all(axis=1)\n",
    "data = data.loc[~payInvalidMask]\n",
    "# validate marriage by cosolidation to 3 other\n",
    "marriageInvalidMask = ~data['MARRIAGE'].isin(validMarriage)\n",
    "data.loc[marriageInvalidMask, 'MARRIAGE'] = '3'\n"
   ]
  },
  {
   "cell_type": "code",
   "execution_count": null,
   "id": "293ddaa5",
   "metadata": {},
   "outputs": [],
   "source": [
    "#Duplicate Removal\n",
    "if data['ID'].nunique() != data.shape[0]:\n",
    "    duplicates = data[data.duplicated(subset=['ID'],keep='first')]\n",
    "    print(duplicates)\n",
    "print(data)"
   ]
  },
  {
   "cell_type": "markdown",
   "id": "617590be",
   "metadata": {},
   "source": [
    "## Initial Data Visualization:"
   ]
  },
  {
   "cell_type": "code",
   "execution_count": null,
   "id": "fc003664",
   "metadata": {},
   "outputs": [],
   "source": [
    "import matplotlib.pyplot as plt\n",
    "import seaborn as sns\n",
    "\n",
    "plt.figure(figsize=(15, 5))\n",
    "# Plot Histogram\n",
    "for col in data.columns:\n",
    "    if col == 'ID':\n",
    "        continue\n",
    "    print(col)\n",
    "    plt.figure(figsize=(8, 6))  # Create a new figure for each histogram with a specific size\n",
    "    sns.histplot(data[col], kde=True, bins=30)  # Create the histogram with KDE\n",
    "    plt.title(f'Histogram of {col}')\n",
    "    plt.xlabel(col)\n",
    "    plt.ylabel('Frequency')\n",
    "\n",
    "plt.show()\n",
    "plt.close()"
   ]
  },
  {
   "cell_type": "code",
   "execution_count": 223,
   "id": "374a8e2f",
   "metadata": {},
   "outputs": [
    {
     "data": {
      "image/png": "[encoded data removed]",
      "text/plain": [
       "<Figure size 800x600 with 2 Axes>"
      ]
     },
     "metadata": {},
     "output_type": "display_data"
    },
    {
     "name": "stdout",
     "output_type": "stream",
     "text": [
      "                                  ID  LIMIT_BAL       SEX  EDUCATION  \\\n",
      "ID                          1.000000   0.026179  0.018497   0.037659   \n",
      "LIMIT_BAL                   0.026179   1.000000  0.024755  -0.231088   \n",
      "SEX                         0.018497   0.024755  1.000000   0.013627   \n",
      "EDUCATION                   0.037659  -0.231088  0.013627   1.000000   \n",
      "MARRIAGE                   -0.028208  -0.111012 -0.028522  -0.136797   \n",
      "AGE                         0.018678   0.144713 -0.090874   0.182434   \n",
      "PAY_0                      -0.030575  -0.271214 -0.057643   0.112593   \n",
      "PAY_2                      -0.011215  -0.296382 -0.070771   0.129703   \n",
      "PAY_3                      -0.018494  -0.286123 -0.066096   0.122425   \n",
      "PAY_4                      -0.002735  -0.267460 -0.060173   0.116531   \n",
      "PAY_5                      -0.022199  -0.249411 -0.055064   0.104088   \n",
      "PAY_6                      -0.020270  -0.235195 -0.044008   0.088986   \n",
      "BILL_AMT1                   0.019389   0.285430 -0.033642   0.016597   \n",
      "BILL_AMT2                   0.017982   0.278314 -0.031183   0.011980   \n",
      "BILL_AMT3                   0.024354   0.283236 -0.024563   0.006714   \n",
      "BILL_AMT4                   0.040351   0.293988 -0.021880  -0.006131   \n",
      "BILL_AMT5                   0.016705   0.295562 -0.017005  -0.012439   \n",
      "BILL_AMT6                   0.016730   0.290389 -0.016733  -0.012646   \n",
      "PAY_AMT1                    0.009742   0.195236 -0.000242  -0.041088   \n",
      "PAY_AMT2                    0.008406   0.178408 -0.001391  -0.032793   \n",
      "PAY_AMT3                    0.039151   0.210167 -0.008597  -0.044293   \n",
      "PAY_AMT4                    0.007793   0.203242 -0.002229  -0.040949   \n",
      "PAY_AMT5                    0.000652   0.217202 -0.001667  -0.045138   \n",
      "PAY_AMT6                    0.003000   0.219595 -0.002766  -0.044061   \n",
      "Default_Payment_Next_Month -0.013952  -0.153520 -0.039961   0.033842   \n",
      "\n",
      "                            MARRIAGE       AGE     PAY_0     PAY_2     PAY_3  \\\n",
      "ID                         -0.028208  0.018678 -0.030575 -0.011215 -0.018494   \n",
      "LIMIT_BAL                  -0.111012  0.144713 -0.271214 -0.296382 -0.286123   \n",
      "SEX                        -0.028522 -0.090874 -0.057643 -0.070771 -0.066096   \n",
      "EDUCATION                  -0.136797  0.182434  0.112593  0.129703  0.122425   \n",
      "MARRIAGE                    1.000000 -0.412001  0.018557  0.023620  0.032399   \n",
      "AGE                        -0.412001  1.000000 -0.039447 -0.050148 -0.053048   \n",
      "PAY_0                       0.018557 -0.039447  1.000000  0.672164  0.574245   \n",
      "PAY_2                       0.023620 -0.050148  0.672164  1.000000  0.766552   \n",
      "PAY_3                       0.032399 -0.053048  0.574245  0.766552  1.000000   \n",
      "PAY_4                       0.031831 -0.049722  0.538841  0.662067  0.777359   \n",
      "PAY_5                       0.034377 -0.053826  0.509426  0.622780  0.686775   \n",
      "PAY_6                       0.033168 -0.048773  0.474553  0.575501  0.632684   \n",
      "BILL_AMT1                  -0.027832  0.056239  0.187068  0.234887  0.208473   \n",
      "BILL_AMT2                  -0.025294  0.054283  0.189859  0.235257  0.237295   \n",
      "BILL_AMT3                  -0.029082  0.053710  0.179785  0.224146  0.227494   \n",
      "BILL_AMT4                  -0.027274  0.051353  0.179125  0.222237  0.227202   \n",
      "BILL_AMT5                  -0.029270  0.049345  0.180635  0.221348  0.225145   \n",
      "BILL_AMT6                  -0.025066  0.047613  0.176980  0.219403  0.222327   \n",
      "PAY_AMT1                   -0.004653  0.026147 -0.079269 -0.080701  0.001295   \n",
      "PAY_AMT2                   -0.009513  0.021785 -0.070101 -0.058990 -0.066793   \n",
      "PAY_AMT3                   -0.004250  0.029247 -0.070561 -0.055901 -0.053311   \n",
      "PAY_AMT4                   -0.013970  0.021379 -0.064005 -0.046858 -0.046067   \n",
      "PAY_AMT5                   -0.003019  0.022850 -0.058190 -0.037093 -0.035863   \n",
      "PAY_AMT6                   -0.008383  0.019478 -0.058673 -0.036500 -0.035861   \n",
      "Default_Payment_Next_Month -0.027575  0.013890  0.324794  0.263551  0.235253   \n",
      "\n",
      "                               PAY_4  ...  BILL_AMT4  BILL_AMT5  BILL_AMT6  \\\n",
      "ID                         -0.002735  ...   0.040351   0.016705   0.016730   \n",
      "LIMIT_BAL                  -0.267460  ...   0.293988   0.295562   0.290389   \n",
      "SEX                        -0.060173  ...  -0.021880  -0.017005  -0.016733   \n",
      "EDUCATION                   0.116531  ...  -0.006131  -0.012439  -0.012646   \n",
      "MARRIAGE                    0.031831  ...  -0.027274  -0.029270  -0.025066   \n",
      "AGE                        -0.049722  ...   0.051353   0.049345   0.047613   \n",
      "PAY_0                       0.538841  ...   0.179125   0.180635   0.176980   \n",
      "PAY_2                       0.662067  ...   0.222237   0.221348   0.219403   \n",
      "PAY_3                       0.777359  ...   0.227202   0.225145   0.222327   \n",
      "PAY_4                       1.000000  ...   0.245917   0.242902   0.239154   \n",
      "PAY_5                       0.819835  ...   0.271915   0.269783   0.262509   \n",
      "PAY_6                       0.716449  ...   0.266356   0.290894   0.285091   \n",
      "BILL_AMT1                   0.202812  ...   0.860272   0.829779   0.802650   \n",
      "BILL_AMT2                   0.225816  ...   0.892482   0.859778   0.831594   \n",
      "BILL_AMT3                   0.244983  ...   0.923969   0.883910   0.853320   \n",
      "BILL_AMT4                   0.245917  ...   1.000000   0.940134   0.900941   \n",
      "BILL_AMT5                   0.242902  ...   0.940134   1.000000   0.946197   \n",
      "BILL_AMT6                   0.239154  ...   0.900941   0.946197   1.000000   \n",
      "PAY_AMT1                   -0.009362  ...   0.233012   0.217031   0.199965   \n",
      "PAY_AMT2                   -0.001944  ...   0.207564   0.181246   0.172663   \n",
      "PAY_AMT3                   -0.069235  ...   0.300023   0.252305   0.233770   \n",
      "PAY_AMT4                   -0.043461  ...   0.130191   0.293118   0.250237   \n",
      "PAY_AMT5                   -0.033590  ...   0.160433   0.141574   0.307729   \n",
      "PAY_AMT6                   -0.026565  ...   0.177637   0.164184   0.115494   \n",
      "Default_Payment_Next_Month  0.216614  ...  -0.010156  -0.006760  -0.005372   \n",
      "\n",
      "                            PAY_AMT1  PAY_AMT2  PAY_AMT3  PAY_AMT4  PAY_AMT5  \\\n",
      "ID                          0.009742  0.008406  0.039151  0.007793  0.000652   \n",
      "LIMIT_BAL                   0.195236  0.178408  0.210167  0.203242  0.217202   \n",
      "SEX                        -0.000242 -0.001391 -0.008597 -0.002229 -0.001667   \n",
      "EDUCATION                  -0.041088 -0.032793 -0.044293 -0.040949 -0.045138   \n",
      "MARRIAGE                   -0.004653 -0.009513 -0.004250 -0.013970 -0.003019   \n",
      "AGE                         0.026147  0.021785  0.029247  0.021379  0.022850   \n",
      "PAY_0                      -0.079269 -0.070101 -0.070561 -0.064005 -0.058190   \n",
      "PAY_2                      -0.080701 -0.058990 -0.055901 -0.046858 -0.037093   \n",
      "PAY_3                       0.001295 -0.066793 -0.053311 -0.046067 -0.035863   \n",
      "PAY_4                      -0.009362 -0.001944 -0.069235 -0.043461 -0.033590   \n",
      "PAY_5                      -0.006089 -0.003191  0.009062 -0.058299 -0.033337   \n",
      "PAY_6                      -0.001496 -0.005223  0.005834  0.019018 -0.046434   \n",
      "BILL_AMT1                   0.140277  0.099355  0.156887  0.158303  0.167026   \n",
      "BILL_AMT2                   0.280365  0.100851  0.150718  0.147398  0.157957   \n",
      "BILL_AMT3                   0.244335  0.316936  0.130011  0.143405  0.179712   \n",
      "BILL_AMT4                   0.233012  0.207564  0.300023  0.130191  0.160433   \n",
      "BILL_AMT5                   0.217031  0.181246  0.252305  0.293118  0.141574   \n",
      "BILL_AMT6                   0.199965  0.172663  0.233770  0.250237  0.307729   \n",
      "PAY_AMT1                    1.000000  0.285576  0.252191  0.199558  0.148459   \n",
      "PAY_AMT2                    0.285576  1.000000  0.244770  0.180107  0.180908   \n",
      "PAY_AMT3                    0.252191  0.244770  1.000000  0.216325  0.159214   \n",
      "PAY_AMT4                    0.199558  0.180107  0.216325  1.000000  0.151830   \n",
      "PAY_AMT5                    0.148459  0.180908  0.159214  0.151830  1.000000   \n",
      "PAY_AMT6                    0.185735  0.157634  0.162740  0.157834  0.154896   \n",
      "Default_Payment_Next_Month -0.072929 -0.058579 -0.056250 -0.056827 -0.055124   \n",
      "\n",
      "                            PAY_AMT6  Default_Payment_Next_Month  \n",
      "ID                          0.003000                   -0.013952  \n",
      "LIMIT_BAL                   0.219595                   -0.153520  \n",
      "SEX                        -0.002766                   -0.039961  \n",
      "EDUCATION                  -0.044061                    0.033842  \n",
      "MARRIAGE                   -0.008383                   -0.027575  \n",
      "AGE                         0.019478                    0.013890  \n",
      "PAY_0                      -0.058673                    0.324794  \n",
      "PAY_2                      -0.036500                    0.263551  \n",
      "PAY_3                      -0.035861                    0.235253  \n",
      "PAY_4                      -0.026565                    0.216614  \n",
      "PAY_5                      -0.023027                    0.204149  \n",
      "PAY_6                      -0.025299                    0.186866  \n",
      "BILL_AMT1                   0.179341                   -0.019644  \n",
      "BILL_AMT2                   0.174256                   -0.014193  \n",
      "BILL_AMT3                   0.182326                   -0.014076  \n",
      "BILL_AMT4                   0.177637                   -0.010156  \n",
      "BILL_AMT5                   0.164184                   -0.006760  \n",
      "BILL_AMT6                   0.115494                   -0.005372  \n",
      "PAY_AMT1                    0.185735                   -0.072929  \n",
      "PAY_AMT2                    0.157634                   -0.058579  \n",
      "PAY_AMT3                    0.162740                   -0.056250  \n",
      "PAY_AMT4                    0.157834                   -0.056827  \n",
      "PAY_AMT5                    0.154896                   -0.055124  \n",
      "PAY_AMT6                    1.000000                   -0.053183  \n",
      "Default_Payment_Next_Month -0.053183                    1.000000  \n",
      "\n",
      "[25 rows x 25 columns]\n"
     ]
    }
   ],
   "source": [
    "# Correlation Matrix\n",
    "correlationMatrix = data.corr()\n",
    "plt.figure(figsize=(8, 6))\n",
    "sns.heatmap(correlationMatrix, annot=False, cmap='coolwarm', fmt=\".2f\")\n",
    "plt.title('Correlation Heatmap for Credit Card Default Data')\n",
    "plt.show()\n",
    "plt.close()\n",
    "print(correlationMatrix)"
   ]
  }
 ],
 "metadata": {
  "kernelspec": {
   "display_name": "BDLAB1",
   "language": "python",
   "name": "python3"
  },
  "language_info": {
   "codemirror_mode": {
    "name": "ipython",
    "version": 3
   },
   "file_extension": ".py",
   "mimetype": "text/x-python",
   "name": "python",
   "nbconvert_exporter": "python",
   "pygments_lexer": "ipython3",
   "version": "3.13.5"
  }
 },
 "nbformat": 4,
 "nbformat_minor": 5
}
